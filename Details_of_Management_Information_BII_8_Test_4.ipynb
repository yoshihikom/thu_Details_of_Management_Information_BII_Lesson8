{
 "cells": [
  {
   "cell_type": "markdown",
   "metadata": {},
   "source": [
    "# 経営情報各論BⅡ：8. 検定\n",
    "\n",
    "## (4)分割表（クロス集計表）の検定\n",
    "ここでは統計的仮説検定の重要な応用である，分割表に対する独立性の検定を取り上げる．この検定手法は$\\chi^2$検定（カイ二乗検定）とも呼ばれる．\n",
    "\n",
    "### 分割表を用いるメリット\n",
    "分割表に対する検定を学ぶ前に，分割表を用いるメリットから説明を始めます．分割表についての正しい知識を持つだけで，データ分析の質は大きく高まります．\n",
    "\n",
    "例えば，Webサイトを運営しているとしましょう．商品の購入や問い合わせボタンなどのクリック率が，ボタンの色によって変わるかどうかを調べています．  \n",
    "以下のようなデータが得られました．\n",
    "\n",
    "| |押した人数|\n",
    "|:---:|:---:|\n",
    "|青いボタン|20|\n",
    "|赤いボタン|10|\n",
    "\n",
    "このデータだけを見ると，青いボタンの方が押されやすいように見えます．ではボタンの色は青にしようと思うかもしれません．  \n",
    "しかし，このでーたには致命的な欠点があります．それは「ボタンが押されなかった時のデータ」がないことです．  \n",
    "ボタンが押されなかった時のデータを加えたのが以下の表です．この形式を分割表，あるいはクロス集計表と呼びます．\n",
    "\n",
    "| |押した|押さなかった|\n",
    "|:---:|:---|:---:|\n",
    "|青いボタン|20|180|\n",
    "|赤いボタン|10|90|\n",
    "\n",
    "分割表を見ると，青いボタンも赤いボタンも共に「押した：押さない」の比率が「１：９」となっていることがわかります．つまり，青いボタンの方が多く配置されていたので青いボタンが多く押されていただけであって，クリック率は両者ともに変わらなかったということです．\n",
    "\n",
    "また，以下のようなデータが得られたとします．  \n",
    "青いボタン：クリック率50%  \n",
    "赤いボタン：クリック率10%  \n",
    "これは青いボタンを採用すべきだと思うかもしれません．しかし，これが以下の分割表から計算されたものだとしたらどうでしょうか．\n",
    "\n",
    "| |押した|押さなかった|\n",
    "|:---:|:---|:---:|\n",
    "|青いボタン|1|1|\n",
    "|赤いボタン|10|90|\n",
    "\n",
    "青いボタンでの調査数がとても少ないですね．サンプルサイズを大きくすると，青いボタンもやはり押される割合が低くなっていくかもしれません．こういった問題を見破るのに，分割表は多大なる効力を発揮します．"
   ]
  },
  {
   "cell_type": "markdown",
   "metadata": {},
   "source": [
    "### ここで扱う例題\n",
    "ここでは，先ほどと同様に，ボタンの押されやすさに関するデータに対して分析を試みます．以下の架空のクリック数データを対象とします．\n",
    "\n",
    "![図10-2](https://drive.google.com/uc?id=1-30x4ygnF6FU51WG-eNlBpE8yHnndFBE)\n",
    "\n",
    "実際の観測データを**観測度数**と呼びます．  \n",
    "クリック率でみると，青いボタンが8%，赤いボタンが20%と，赤いボタンの方が高いように見えます．これが「意味のある」違いだといえるかどうかを，統計的仮説検定を用いて判断していきます．"
   ]
  },
  {
   "cell_type": "markdown",
   "metadata": {},
   "source": [
    "### 期待度数を求める\n",
    "色によって押されやすさが変わることを示すのが今回の目的でした．その前に，まずは「色によって押されやすさがまったく変わらなかったらどのような結果になるのか」を考えてみる．この時に期待される度数を**期待度数**と呼びます．\n",
    "\n",
    "ボタンの押されやすさのデータの最下段を見ると，ボタンの色を無視したときの「押したor押さない」の比率は「押した：押さない＝30:270」すなわち1:9となっていることがわかります．色を無視すれば，全体の1割の人だけがボタンをおすということです．\n",
    "\n",
    "ここで，実験対象者となった人数を確認します．\n",
    "\n",
    "青いボタン250人  \n",
    "赤いボタン50人\n",
    "\n",
    "この中で１割の人だけがボタンを押すので，ボタンを押す人の期待度数は以下のようになる．\n",
    "\n",
    "青いボタンを押す人25人  \n",
    "赤いボタンを押す人5人\n",
    "\n",
    "ボタンを押さなかった人数は，全体から押した人数を引けばよいので，期待度数は次のように求められます．\n",
    "\n",
    "| |押した|押さなかった|\n",
    "|:---:|:---|:---:|\n",
    "|青いボタン|25|225|\n",
    "|赤いボタン|5|45|\n",
    "\n",
    "後は，この期待度数と，実際の観測された度数との違いを見ます．この違いが大きければ「ボタンの色によって押されやすさが変わる」とみてよいでしょう．  \n",
    "なお，$\\chi^2$検定を行う際は，期待度数がすべて5以上であることが求められます．"
   ]
  },
  {
   "cell_type": "markdown",
   "metadata": {},
   "source": [
    "### 期待度数との差を求める\n",
    "次に，以下の値を計算します．ただし$O_{ij}$は$i$行$j$列の観測度数で，$E_{ij}$は期待度数です．これを$\\chi^2$統計量と呼びます．\n",
    "\n",
    "$\\displaystyle \\chi^2=\\sum^2_{i=1}\\sum^2_{j=1}\\frac{(O_{ij}-E_{ij})^2}{E_{ij}}$\n",
    "\n",
    "これを実際に計算してみます．ボタンの押されやすさのデータの表と期待度数の表の数値と見比べてください．\n",
    "\n",
    "$\\begin{eqnarray} \\displaystyle \\chi^2 &=& \\frac{(20-25)^2}{25}+\\frac{(230-225)^2}{225}+\\frac{(10-5)^2}{5}+\\frac{(40-45)^2}{45}\\\\\\displaystyle   &=& 1+\\frac{1}{9}+5+\\frac{5}{9}\\\\ &\\fallingdotseq& 6.667 \\end{eqnarray}$\n",
    "\n",
    "今回のデータのような2行2列の分割表における$\\chi^2$統計量の標本分布は，自由度1の$\\chi^2$分布に漸近的に従うことが証明されています．後は$t$検定とほぼ同様です．$\\chi^2$分布の累積分布関数は，Pythonを使うことで簡単に得られます．"
   ]
  },
  {
   "cell_type": "markdown",
   "metadata": {},
   "source": [
    "### 実装：p値の計算\n",
    "$p$値を計算します．まずは必要なライブラリの読み込みや表示桁数の設定などを行います．"
   ]
  },
  {
   "cell_type": "code",
   "execution_count": 1,
   "metadata": {},
   "outputs": [],
   "source": [
    "# 数値計算に使うライブラリ\n",
    "import numpy as np\n",
    "import pandas as pd\n",
    "import scipy as sp\n",
    "from scipy import stats\n",
    "\n",
    "# グラフを描画するライブラリ\n",
    "from matplotlib import pyplot as plt\n",
    "import seaborn as sns\n",
    "sns.set()\n",
    "\n",
    "# 表示桁数の指定\n",
    "%precision 3\n",
    "# グラフをjupyter Notebook内に表示させるための指定\n",
    "%matplotlib inline"
   ]
  },
  {
   "cell_type": "markdown",
   "metadata": {},
   "source": [
    "自由度１の$\\chi^2$分布の累積密度関数を用いて$p$値を計算します．"
   ]
  },
  {
   "cell_type": "code",
   "execution_count": 2,
   "metadata": {},
   "outputs": [
    {
     "data": {
      "text/plain": [
       "0.010"
      ]
     },
     "execution_count": 2,
     "metadata": {},
     "output_type": "execute_result"
    }
   ],
   "source": [
    "# p値を求める\n",
    "1 - sp.stats.chi2.cdf(x = 6.667, df = 1)"
   ]
  },
  {
   "cell_type": "markdown",
   "metadata": {},
   "source": [
    "0.05を下回りました．よって，色によってボタンの押されやすさが有意に変わると判断できることになります．"
   ]
  },
  {
   "cell_type": "markdown",
   "metadata": {},
   "source": [
    "### 実装：分割表の検定\n",
    "分割表の検定は，Pythonを使うことで簡単に計算できます．まずはデータを読み込みます．"
   ]
  },
  {
   "cell_type": "code",
   "execution_count": 3,
   "metadata": {
    "scrolled": true
   },
   "outputs": [
    {
     "name": "stdout",
     "output_type": "stream",
     "text": [
      "  color  click  freq\n",
      "0  blue  click    20\n",
      "1  blue    not   230\n",
      "2   red  click    10\n",
      "3   red    not    40\n"
     ]
    }
   ],
   "source": [
    "# データの読み込み\n",
    "click_data = pd.read_csv(\"ds2-testing-4-click_data.csv\")\n",
    "print(click_data)"
   ]
  },
  {
   "cell_type": "markdown",
   "metadata": {},
   "source": [
    "分割表に変換します．"
   ]
  },
  {
   "cell_type": "code",
   "execution_count": 4,
   "metadata": {},
   "outputs": [
    {
     "name": "stdout",
     "output_type": "stream",
     "text": [
      "click  click  not\n",
      "color            \n",
      "blue      20  230\n",
      "red       10   40\n"
     ]
    }
   ],
   "source": [
    "# 分割表形式に変換\n",
    "cross = pd.pivot_table(\n",
    "    data = click_data,\n",
    "    values = \"freq\",\n",
    "    aggfunc = \"sum\",\n",
    "    index = \"color\",\n",
    "    columns = \"click\"\n",
    ")\n",
    "print(cross)"
   ]
  },
  {
   "cell_type": "markdown",
   "metadata": {},
   "source": [
    "検定を実行します．`sp.stats.chi2_contingency`関数を使います．標準ですと余計な補正が入ってしまうので『`correction=False`』として補正をしないようにしました．"
   ]
  },
  {
   "cell_type": "code",
   "execution_count": 5,
   "metadata": {},
   "outputs": [
    {
     "data": {
      "text/plain": [
       "Chi2ContingencyResult(statistic=6.666666666666666, pvalue=0.009823274507519247, dof=1, expected_freq=array([[ 25., 225.],\n",
       "       [  5.,  45.]]))"
      ]
     },
     "execution_count": 5,
     "metadata": {},
     "output_type": "execute_result"
    }
   ],
   "source": [
    "# 検定の実行\n",
    "sp.stats.chi2_contingency(cross, correction = False)"
   ]
  },
  {
   "cell_type": "markdown",
   "metadata": {},
   "source": [
    "結果は，$\\chi^2$統計量，$p$値，自由度，期待度数の表の順に出力されています．先ほどの結果と一致していることを確認してください．"
   ]
  },
  {
   "cell_type": "code",
   "execution_count": null,
   "metadata": {},
   "outputs": [],
   "source": []
  }
 ],
 "metadata": {
  "kernelspec": {
   "display_name": "Python 3 (ipykernel)",
   "language": "python",
   "name": "python3"
  },
  "language_info": {
   "codemirror_mode": {
    "name": "ipython",
    "version": 3
   },
   "file_extension": ".py",
   "mimetype": "text/x-python",
   "name": "python",
   "nbconvert_exporter": "python",
   "pygments_lexer": "ipython3",
   "version": "3.11.4"
  }
 },
 "nbformat": 4,
 "nbformat_minor": 2
}
